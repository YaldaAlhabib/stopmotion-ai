{
 "cells": [
  {
   "cell_type": "markdown",
   "id": "0fdd23f5-88a6-43a0-8754-067890b34abe",
   "metadata": {},
   "source": [
    "# Stop-Motion Style Transfer — Thesis\n",
    "\n",
    "Welcome! Use the links below to open the notebooks.\n",
    "\n",
    "- [Training - CycleGAN (M1)](notebooks/M1_training_testing_cycleGAN.ipynb)\n",
    "- [Training - Pix2Pix (M2)](notebooks/M2_training_testing_pix2pix.ipynb)\n",
    "- [Training - Pix2Pix (M3)](notebooks/M3_training_testing_pix2pix.ipynb)\n",
    "- [Training - Pix2Pix (M4)](notebooks/M4_training_testing_pix2pix.ipynb)\n",
    "- [CycleGAN (core)](notebooks/CycleGAN.ipynb)\n",
    "- [Pix2Pix (core)](notebooks/pix2pix.ipynb)\n",
    "- [Video creation](notebooks/video_creation.ipynb)\n",
    "- [Gradio setup](notebooks/Gradio_Setup.ipynb)\n",
    "- [Results](notebooks/Results.ipynb)\n"
   ]
  },
  {
   "cell_type": "code",
   "execution_count": null,
   "id": "4deb3871-779e-4297-823c-a8609b94e9c2",
   "metadata": {},
   "outputs": [],
   "source": [
    "quarto publish gh-pages"
   ]
  }
 ],
 "metadata": {
  "kernelspec": {
   "display_name": "Python 3 (ipykernel)",
   "language": "python",
   "name": "python3"
  },
  "language_info": {
   "codemirror_mode": {
    "name": "ipython",
    "version": 3
   },
   "file_extension": ".py",
   "mimetype": "text/x-python",
   "name": "python",
   "nbconvert_exporter": "python",
   "pygments_lexer": "ipython3",
   "version": "3.10.18"
  }
 },
 "nbformat": 4,
 "nbformat_minor": 5
}
